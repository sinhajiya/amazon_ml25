{
 "cells": [
  {
   "cell_type": "markdown",
   "id": "2d0549df",
   "metadata": {},
   "source": [
    "#### Image Caching\n",
    "Download images from the given links, resize them to 128×128, save them as .jpeg files with unique hashed names at 80% quality."
   ]
  },
  {
   "cell_type": "code",
   "execution_count": 1,
   "id": "3cc28663",
   "metadata": {},
   "outputs": [],
   "source": [
    "\n",
    "import os\n",
    "import hashlib\n",
    "import requests\n",
    "from io import BytesIO\n",
    "from PIL import Image\n",
    "from tqdm import tqdm\n"
   ]
  },
  {
   "cell_type": "code",
   "execution_count": null,
   "id": "75a29e75",
   "metadata": {},
   "outputs": [],
   "source": [
    "#params\n",
    "CACHE_DIR = \"cache_images\"\n",
    "RESIZE = (128, 128)\n"
   ]
  },
  {
   "cell_type": "code",
   "execution_count": null,
   "id": "d7bc45d3",
   "metadata": {},
   "outputs": [],
   "source": [
    "# use hash encoding to make sure the images align.\n",
    "def _get_cached_path(cache_dir, url):\n",
    "    hashed = hashlib.md5(url.encode()).hexdigest() + \".jpeg\"\n",
    "    return os.path.join(cache_dir, hashed)\n",
    "\n",
    "# save images in a cache folder to avoid downloading again and again.\n",
    "def precache_images(df_list, cache_dir=CACHE_DIR, resize=RESIZE):\n",
    "    urls = []\n",
    "    for df in df_list:\n",
    "        if \"image_link\" in df.columns:\n",
    "            urls.extend(df[\"image_link\"].dropna().astype(str).tolist())\n",
    "    urls = list(dict.fromkeys(urls))  \n",
    "    print(f\"Pre-caching {len(urls)} unique image URLs to '{cache_dir}'\")\n",
    " # Iterate through each image URL\n",
    "    for url in tqdm(urls):\n",
    "        if not url:\n",
    "            continue\n",
    "        try:\n",
    "            cached = _get_cached_path(cache_dir, url)\n",
    "        except Exception:\n",
    "            continue\n",
    "        if os.path.exists(cached):\n",
    "            try:\n",
    "                img = Image.open(cached)\n",
    "                if img.size != resize:\n",
    "                    img = img.convert(\"RGB\").resize(resize)\n",
    "                    img.save(cached, quality=90)\n",
    "                continue\n",
    "            except Exception:\n",
    "                pass  \n",
    "# Download and save new images in compressed JPEG format\n",
    "        try:\n",
    "            response = requests.get(url, timeout=10)\n",
    "            image = Image.open(BytesIO(response.content)).convert(\"RGB\")\n",
    "          \n",
    "            image = image.resize(resize)\n",
    "            image.save(cached, format=\"JPEG\", quality=80, optimize=True)\n",
    "# if image doesn't download, save a white image.\n",
    "        except Exception:\n",
    "            Image.new(\"RGB\", resize, (255, 255, 255)).save(cached)\n",
    "    "
   ]
  }
 ],
 "metadata": {
  "kernelspec": {
   "display_name": "amazon",
   "language": "python",
   "name": "python3"
  },
  "language_info": {
   "codemirror_mode": {
    "name": "ipython",
    "version": 3
   },
   "file_extension": ".py",
   "mimetype": "text/x-python",
   "name": "python",
   "nbconvert_exporter": "python",
   "pygments_lexer": "ipython3",
   "version": "3.13.7"
  }
 },
 "nbformat": 4,
 "nbformat_minor": 5
}
